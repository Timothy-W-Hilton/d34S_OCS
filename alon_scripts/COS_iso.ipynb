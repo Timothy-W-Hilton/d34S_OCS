{
 "cells": [
  {
   "cell_type": "code",
   "execution_count": null,
   "metadata": {},
   "outputs": [],
   "source": [
    "\"\"\"TWH port of Alon's Matlab script demo to python\"\"\"\n",
    "\n",
    "import numpy as np\n",
    "import xarray as xr\n",
    "import holoviews as hv\n",
    "\n",
    "hv.extension('bokeh')"
   ]
  },
  {
   "cell_type": "code",
   "execution_count": null,
   "metadata": {},
   "outputs": [],
   "source": [
    "n_years = 40\n",
    "n_months = 12\n",
    "\n",
    "R_ref = 0.0422\n",
    "R_atm = R_ref * (3 / 1000 + 1)  #lets start with atmospheric d34S of 3 permil, and later do a spin up.\n",
    "COS32 = 500 # This is the amount in the atmosphere. for simplicity I\n",
    "             # work here with concetrations in ppt instead of mass\n",
    "COS34 = COS32*R_atm  # This is the amount of COS with 34S\n",
    "epsilon_U = -5 #assuming fractionation of -5 permil in uptake by plants\n",
    "#R_P = R_ref*(20/1000+1) # Assuming 20 permil for production from the ocean\n",
    "#R_P = R_ref*(3/1000+1) # Assuming 3 permil for anthropogenic production\n",
    "\n",
    "# Assuming 8 permil for total production from both sources.  TWH: This line\n",
    "# rearranges the definition of isotope fraction (delta) to solve for\n",
    "# R_P.\n",
    "R_P=R_ref*(8/1000+1)\n",
    "\n",
    "#assuming arbitrary production for each month (TWH: production is\n",
    "#oceans + anthro, I think.  Uptake balances production in this\n",
    "#example: that is, sum(PCCOS_32 equals sum(U_COS32))\n",
    "P_COS32 = np.array([50, 110, 130, 140, 150, 200, 250, 300, 250, 200, 150, 50])\n",
    "#assuming arbitrary uptake for each month (TWH: uptake is from plants)\n",
    "U_COS32 = np.array([25, 50, 60, 70, 100, 300, 500, 400, 200, 150, 100, 25])\n",
    "Dt = 0.1  # time step (TWH: increasing Dt increases the range of\n",
    "          # [COS32] across a year, but not the January or December\n",
    "          # values because production equals uptake across a year.\n",
    "\n",
    "P_COS34 = P_COS32 * R_P\n",
    "d34S = np.zeros((n_years, n_months))\n",
    "COS = np.zeros((n_years, n_months))\n",
    "for y in range(n_years): # years loop\n",
    "    for m in range(n_months): # months loop\n",
    "        R_atm = COS34 / COS32\n",
    "        U_COS34 = U_COS32[m] * (1 + epsilon_U / 1000) * R_atm\n",
    "        COS32 = COS32 + P_COS32[m] * Dt - U_COS32[m] * Dt  # COS 32 iteration\n",
    "        COS34 = COS34 + P_COS34[m] * Dt - U_COS34 * Dt  # COS 34 iteration\n",
    "        d34S[y, m] = ((COS34 / COS32) / R_ref - 1) * 1000  #calculate delta-34S\n",
    "        COS[y, m] = COS32  # save the COS concetration for later"
   ]
  },
  {
   "cell_type": "code",
   "execution_count": null,
   "metadata": {},
   "outputs": [],
   "source": [
    "COSxr = xr.Dataset({'COS': (['year', 'month'], COS),\n",
    "                   'd34S': (['year', 'month'], d34S)},\n",
    "                   coords={'year': (('year'), np.arange(n_years)),\n",
    "                           'month': (('month'), np.arange(n_months))})\n",
    "COSds = hv.Dataset(COSxr)"
   ]
  },
  {
   "cell_type": "code",
   "execution_count": null,
   "metadata": {},
   "outputs": [],
   "source": [
    "year_dim = hv.Dimension('year', label='Year')\n",
    "month_dim = hv.Dimension('month', label='Month')\n",
    "COS_dim = hv.Dimension('COS', label='COS', unit='ppt')\n",
    "d34S_dim = hv.Dimension('d34S', label='d34S', unit='delta 34S')\n",
    "cv_COS = COSds.to(hv.Curve, kdims=['month'], vdims=[COS_dim]).opts(width=600)\n",
    "cv_d34S = COSds.to(hv.Curve, kdims=['month'], vdims=[d34S_dim]).opts(width=600)\n",
    "hv.Layout([cv_COS, cv_d34S]).cols(1)"
   ]
  }
 ],
 "metadata": {
  "kernelspec": {
   "display_name": "Python [conda env:d34Shv]",
   "language": "python",
   "name": "conda-env-d34Shv-py"
  },
  "language_info": {
   "codemirror_mode": {
    "name": "ipython",
    "version": 3
   },
   "file_extension": ".py",
   "mimetype": "text/x-python",
   "name": "python",
   "nbconvert_exporter": "python",
   "pygments_lexer": "ipython3",
   "version": "3.7.3"
  }
 },
 "nbformat": 4,
 "nbformat_minor": 2
}
